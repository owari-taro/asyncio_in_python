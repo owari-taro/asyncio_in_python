{
 "cells": [
  {
   "cell_type": "code",
   "execution_count": 1,
   "metadata": {},
   "outputs": [
    {
     "name": "stdout",
     "output_type": "stream",
     "text": [
      "func result is 2 and its  type is<class 'int'>\n",
      "crooutine result is <coroutine object coroutnine_add_one at 0x7f968cc35150> and its type is <class 'coroutine'>\n"
     ]
    }
   ],
   "source": [
    "async def coroutnine_add_one(num:int)->int:\n",
    "    return number+1\n",
    "def add_one(num:int)->int:\n",
    "    return num+1\n",
    "\n",
    "func_result=add_one(1)\n",
    "coroutine_result=coroutnine_add_one(1)\n",
    "print(f\"func result is {func_result} and its  type is{type(func_result)}\")\n",
    "print(f\"crooutine result is {coroutine_result} and its type is {type(coroutine_result)}\")\n"
   ]
  }
 ],
 "metadata": {
  "interpreter": {
   "hash": "5867d4e87a8291e95bb4b0f1d5000325cf5b9d286ee4e99359d57b4eeba34363"
  },
  "kernelspec": {
   "display_name": "Python 3.10.1 64-bit ('3.10.1')",
   "language": "python",
   "name": "python3"
  },
  "language_info": {
   "codemirror_mode": {
    "name": "ipython",
    "version": 3
   },
   "file_extension": ".py",
   "mimetype": "text/x-python",
   "name": "python",
   "nbconvert_exporter": "python",
   "pygments_lexer": "ipython3",
   "version": "3.10.1"
  },
  "orig_nbformat": 4
 },
 "nbformat": 4,
 "nbformat_minor": 2
}
