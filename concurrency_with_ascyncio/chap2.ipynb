{
 "cells": [
  {
   "cell_type": "code",
   "execution_count": 2,
   "metadata": {},
   "outputs": [
    {
     "name": "stdout",
     "output_type": "stream",
     "text": [
      "func result is 2 and its  type is<class 'int'>\n",
      "crooutine result is <coroutine object coroutnine_add_one at 0x7f76f8aa6c70> and its type is <class 'coroutine'>\n"
     ]
    },
    {
     "name": "stderr",
     "output_type": "stream",
     "text": [
      "/home/biwajima/.pyenv/versions/3.10.1/lib/python3.10/site-packages/debugpy/_vendored/pydevd/pydevd.py:1259: RuntimeWarning: coroutine 'coroutnine_add_one' was never awaited\n",
      "  return self._apply_filter_cache[cache_key]\n",
      "RuntimeWarning: Enable tracemalloc to get the object allocation traceback\n"
     ]
    },
    {
     "ename": "TypeError",
     "evalue": "unsupported operand type(s) for +: 'coroutine' and 'int'",
     "output_type": "error",
     "traceback": [
      "\u001b[0;31m---------------------------------------------------------------------------\u001b[0m",
      "\u001b[0;31mTypeError\u001b[0m                                 Traceback (most recent call last)",
      "\u001b[0;32m/tmp/ipykernel_23573/1212159411.py\u001b[0m in \u001b[0;36m<module>\u001b[0;34m\u001b[0m\n\u001b[1;32m      8\u001b[0m \u001b[0mprint\u001b[0m\u001b[0;34m(\u001b[0m\u001b[0;34mf\"func result is {func_result} and its  type is{type(func_result)}\"\u001b[0m\u001b[0;34m)\u001b[0m\u001b[0;34m\u001b[0m\u001b[0;34m\u001b[0m\u001b[0m\n\u001b[1;32m      9\u001b[0m \u001b[0mprint\u001b[0m\u001b[0;34m(\u001b[0m\u001b[0;34mf\"crooutine result is {coroutine_result} and its type is {type(coroutine_result)}\"\u001b[0m\u001b[0;34m)\u001b[0m\u001b[0;34m\u001b[0m\u001b[0;34m\u001b[0m\u001b[0m\n\u001b[0;32m---> 10\u001b[0;31m \u001b[0mprint\u001b[0m\u001b[0;34m(\u001b[0m\u001b[0mcoroutine_result\u001b[0m\u001b[0;34m+\u001b[0m\u001b[0;36m1\u001b[0m\u001b[0;34m)\u001b[0m\u001b[0;34m\u001b[0m\u001b[0;34m\u001b[0m\u001b[0m\n\u001b[0m",
      "\u001b[0;31mTypeError\u001b[0m: unsupported operand type(s) for +: 'coroutine' and 'int'"
     ]
    }
   ],
   "source": [
    "async def coroutnine_add_one(num:int)->int:\n",
    "    return number+1\n",
    "def add_one(num:int)->int:\n",
    "    return num+1\n",
    "\n",
    "func_result=add_one(1)\n",
    "coroutine_result=coroutnine_add_one(1)\n",
    "print(f\"func result is {func_result} and its  type is{type(func_result)}\")\n",
    "print(f\"crooutine result is {coroutine_result} and its type is {type(coroutine_result)}\")\n"
   ]
  }
 ],
 "metadata": {
  "interpreter": {
   "hash": "5867d4e87a8291e95bb4b0f1d5000325cf5b9d286ee4e99359d57b4eeba34363"
  },
  "kernelspec": {
   "display_name": "Python 3.10.1 64-bit ('3.10.1')",
   "language": "python",
   "name": "python3"
  },
  "language_info": {
   "codemirror_mode": {
    "name": "ipython",
    "version": 3
   },
   "file_extension": ".py",
   "mimetype": "text/x-python",
   "name": "python",
   "nbconvert_exporter": "python",
   "pygments_lexer": "ipython3",
   "version": "3.10.1"
  },
  "orig_nbformat": 4
 },
 "nbformat": 4,
 "nbformat_minor": 2
}
